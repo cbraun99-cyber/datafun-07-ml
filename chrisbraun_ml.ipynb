{
 "cells": [
  {
   "cell_type": "markdown",
   "id": "b4f72ba2",
   "metadata": {},
   "source": [
    "# chrisbraun_ml Project Notebook\n",
    "## Author: Chris Braun\n",
    "### Link to repository : https://github.com/cbraun99-cyber/datafun-07-ml\n"
   ]
  },
  {
   "cell_type": "code",
   "execution_count": null,
   "id": "b8e292d1",
   "metadata": {},
   "outputs": [],
   "source": [
    "# First Python cell - All imports (organized following conventions)\n",
    "import pandas as pd\n",
    "import numpy as np\n",
    "import matplotlib.pyplot as plt\n",
    "import seaborn as sns\n",
    "from scipy import stats\n",
    "from sklearn.model_selection import train_test_split\n",
    "from sklearn.linear_model import LinearRegression\n",
    "from sklearn import datasets\n",
    "import warnings\n",
    "warnings.filterwarnings('ignore')\n",
    "\n",
    "# Set display options\n",
    "pd.set_option('display.precision', 2)"
   ]
  }
 ],
 "metadata": {
  "kernelspec": {
   "display_name": ".venv",
   "language": "python",
   "name": "python3"
  },
  "language_info": {
   "name": "python",
   "version": "3.13.7"
  }
 },
 "nbformat": 4,
 "nbformat_minor": 5
}
